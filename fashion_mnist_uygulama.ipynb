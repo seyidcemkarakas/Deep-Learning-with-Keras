{
  "nbformat": 4,
  "nbformat_minor": 0,
  "metadata": {
    "colab": {
      "name": "fashion-mnist-uygulama.ipynb",
      "provenance": []
    },
    "kernelspec": {
      "name": "python3",
      "display_name": "Python 3"
    },
    "accelerator": "GPU"
  },
  "cells": [
    {
      "cell_type": "markdown",
      "metadata": {
        "id": "LlGWx5AQjSV3",
        "colab_type": "text"
      },
      "source": [
        "## Gerekli paketleri import edelim"
      ]
    },
    {
      "cell_type": "code",
      "metadata": {
        "id": "XuacEOT8ivmT",
        "colab_type": "code",
        "colab": {}
      },
      "source": [
        "import keras\n",
        "from keras.datasets import fashion_mnist\n",
        "from keras.models import load_model\n",
        "import os\n",
        "import numpy as np\n",
        "import matplotlib.pyplot as plt\n",
        "from matplotlib import cm\n",
        "%matplotlib inline \n",
        "import random"
      ],
      "execution_count": 12,
      "outputs": []
    },
    {
      "cell_type": "markdown",
      "metadata": {
        "id": "R-KJ8G1ekgNa",
        "colab_type": "text"
      },
      "source": [
        "## Fashion Verilerimizi internetten çekelim"
      ]
    },
    {
      "cell_type": "code",
      "metadata": {
        "id": "igb46BNUkdMu",
        "colab_type": "code",
        "colab": {
          "base_uri": "https://localhost:8080/",
          "height": 153
        },
        "outputId": "7477a61b-1445-4564-f994-426dcca4f733"
      },
      "source": [
        "(x_train,y_train),(x_test,y_test) = fashion_mnist.load_data()"
      ],
      "execution_count": 2,
      "outputs": [
        {
          "output_type": "stream",
          "text": [
            "Downloading data from http://fashion-mnist.s3-website.eu-central-1.amazonaws.com/train-labels-idx1-ubyte.gz\n",
            "32768/29515 [=================================] - 0s 0us/step\n",
            "Downloading data from http://fashion-mnist.s3-website.eu-central-1.amazonaws.com/train-images-idx3-ubyte.gz\n",
            "26427392/26421880 [==============================] - 0s 0us/step\n",
            "Downloading data from http://fashion-mnist.s3-website.eu-central-1.amazonaws.com/t10k-labels-idx1-ubyte.gz\n",
            "8192/5148 [===============================================] - 0s 0us/step\n",
            "Downloading data from http://fashion-mnist.s3-website.eu-central-1.amazonaws.com/t10k-images-idx3-ubyte.gz\n",
            "4423680/4422102 [==============================] - 0s 0us/step\n"
          ],
          "name": "stdout"
        }
      ]
    },
    {
      "cell_type": "markdown",
      "metadata": {
        "id": "4kwVTIy-lL_Z",
        "colab_type": "text"
      },
      "source": [
        "### Veri setimiz hakkında bir kaç bilgi edinelim"
      ]
    },
    {
      "cell_type": "code",
      "metadata": {
        "id": "fmQhov1tkiPm",
        "colab_type": "code",
        "colab": {
          "base_uri": "https://localhost:8080/",
          "height": 51
        },
        "outputId": "cbcf2163-08bd-42d8-93ed-d91167ba9997"
      },
      "source": [
        "print(f\" Eğitim setinin; giriş shapei {x_train.shape}, çıkış shapeleri {y_train.shape} \\n Test setinin;giriş shapei {x_test.shape} , çıkış shapei {y_test.shape}\")"
      ],
      "execution_count": 7,
      "outputs": [
        {
          "output_type": "stream",
          "text": [
            " Eğitim setinin; giriş shapei (60000, 28, 28), çıkış shapeleri (60000,) \n",
            " Test setinin;giriş shapei (10000, 28, 28) , çıkış shapei (10000,)\n"
          ],
          "name": "stdout"
        }
      ]
    },
    {
      "cell_type": "markdown",
      "metadata": {
        "id": "hXNFLownmg_b",
        "colab_type": "text"
      },
      "source": [
        "### Verilerden bir tane örnek çizelim"
      ]
    },
    {
      "cell_type": "code",
      "metadata": {
        "id": "PAlWZ9fQmlBR",
        "colab_type": "code",
        "colab": {
          "base_uri": "https://localhost:8080/",
          "height": 282
        },
        "outputId": "e79dbfc0-52e5-4317-f97e-2fa0a12200fa"
      },
      "source": [
        "plt.imshow(x_train[61],cmap=\"gray\")"
      ],
      "execution_count": 8,
      "outputs": [
        {
          "output_type": "execute_result",
          "data": {
            "text/plain": [
              "<matplotlib.image.AxesImage at 0x7facb09ad748>"
            ]
          },
          "metadata": {
            "tags": []
          },
          "execution_count": 8
        },
        {
          "output_type": "display_data",
          "data": {
            "image/png": "[encoded data removed]",
            "text/plain": [
              "<Figure size 432x288 with 1 Axes>"
            ]
          },
          "metadata": {
            "tags": [],
            "needs_background": "light"
          }
        }
      ]
    },
    {
      "cell_type": "markdown",
      "metadata": {
        "id": "uuRKZXwsm4KT",
        "colab_type": "text"
      },
      "source": [
        "cmap = \"gray\"  figürü siyah-beyaz görmemizi sağlar"
      ]
    },
    {
      "cell_type": "markdown",
      "metadata": {
        "id": "exmitDvznRmK",
        "colab_type": "text"
      },
      "source": [
        "## 10 sınıfran oluşan Fahion MNIST veri setimizde sınıflandırmaları kendimiz yapalım"
      ]
    },
    {
      "cell_type": "code",
      "metadata": {
        "id": "usG_Ice6nXuh",
        "colab_type": "code",
        "colab": {}
      },
      "source": [
        "fashion_mnist_labels =np.array([\n",
        "    'Tişört/Üst',\n",
        "    'Pantolon',\n",
        "    'Kazak',\n",
        "    'Elbise',\n",
        "    'Ceket',\n",
        "    'Sandalet',\n",
        "    'Gömlek',\n",
        "    'Sneaker',\n",
        "    'Çanta',\n",
        "    'Bilekte Bot'])"
      ],
      "execution_count": 9,
      "outputs": []
    },
    {
      "cell_type": "markdown",
      "metadata": {
        "id": "mo3CThVbpbQW",
        "colab_type": "text"
      },
      "source": [
        "## Modeli eğitmek yerine daha önceden hesaplanmış olan ağırlık ve bias değerlerini bir başka modelden alalım"
      ]
    },
    {
      "cell_type": "code",
      "metadata": {
        "id": "9yGa8mqOnjQn",
        "colab_type": "code",
        "colab": {}
      },
      "source": [
        "model = load_model('drive/modeller/model_fashion-mnist_cnn_train2_epoch24.h5')"
      ],
      "execution_count": null,
      "outputs": []
    },
    {
      "cell_type": "markdown",
      "metadata": {
        "id": "VBaIO9qisMJb",
        "colab_type": "text"
      },
      "source": [
        "Normalde bu satırın çalışması lazım"
      ]
    },
    {
      "cell_type": "code",
      "metadata": {
        "id": "gt1UccY6pyOG",
        "colab_type": "code",
        "colab": {}
      },
      "source": [
        "def convertMnistData(image):\n",
        "    img = image.astype('float32')\n",
        "    img /= 255\n",
        "\n",
        "    return image.reshape(1,28,28,1)\n",
        "\n",
        "plt.figure(figsize=(16,16))\n",
        "\n",
        "right = 0\n",
        "mistake = 0\n",
        "prefictionNum = 200\n",
        "\n",
        "for i in range(prefictionNum):\n",
        "    index = random.randint(0, x_test.shape[0])\n",
        "    image = x_test[index]\n",
        "    data = convertMnistData(image)\n",
        "\n",
        "    plt.subplot(10, 10, i+1)\n",
        "    plt.imshow(image,  cmap=cm.gray_r)\n",
        "    plt.axis('off')\n",
        "\n",
        "    ret = model.predict(data, batch_size=1) \n",
        "    #yazdır(ret)\n",
        "\n",
        "    bestnum = 0.0\n",
        "    bestclass = 0\n",
        "    for n in [0,1,2,3,4,5,6,7,8,9]:\n",
        "        if bestnum < ret[0][n]:\n",
        "            bestnum = ret[0][n]\n",
        "            bestclass = n\n",
        "\n",
        "    if y_test[index] == bestclass:\n",
        "        plt.title(fashion_mnist_labels[bestclass])\n",
        "        right += 1\n",
        "    else:\n",
        "        #tahmin edilen sınıf != gerçek sınıf\n",
        "        plt.title(fashion_mnist_labels[bestclass] + \"!=\" + fashion_mnist_labels[y_test[index]], color='#ff0000')\n",
        "        mistake += 1\n",
        "                                                                   \n",
        "plt.show()\n",
        "print(\"Doğru tahminlerin sayısı:\", right)\n",
        "print(\"Hata sayısı:\", mistake)\n",
        "print(\"Doğru tahmin oranı:\", right/(mistake + right)*100, '%')"
      ],
      "execution_count": null,
      "outputs": []
    }
  ]
}